{
  "nbformat": 4,
  "nbformat_minor": 0,
  "metadata": {
    "colab": {
      "provenance": [],
      "collapsed_sections": []
    },
    "kernelspec": {
      "name": "python3",
      "display_name": "Python 3"
    },
    "language_info": {
      "name": "python"
    }
  },
  "cells": [
    {
      "cell_type": "markdown",
      "source": [
        "**Proyecto final - Avance 1**\n",
        "\n",
        "\n",
        "**Carolina Martínez García A01328596**\n",
        "\n",
        "**Rafael Sergio García Martínez A00529676**\n",
        "\n",
        "\n",
        "###El nombre que caracteriza el conjunto de datos: Vending Machine Sales\n",
        "###La organización que lo generó: Kaggle\n",
        "###Incluya un enlace de Internet donde se puedan descargar el base de datos en línea: \n",
        "####https://www.kaggle.com/datasets/awesomeasingh/vending-machine-sales?resource=download\n",
        "###Describe el conjunto de datos. ¿Qué datos contiene? \n",
        "#####Este conjunto de datos representa datos de máquinas expendedoras de varias ubicaciones en el centro de Nueva Jersey. Las ubicaciones incluyen una biblioteca, un centro comercial, una ubicación de oficina y una ubicación de fabricación. Los científicos de datos pueden utilizar los datos para comprender las tendencias, el comportamiento de los usuarios y las preferencias generales de los consumidores en diferentes ubicaciones.\n",
        "###¿Cuáles son algunas de las preguntas de investigación que podría responder con estos datos\n",
        "###Enumere al menos OCHO\n",
        "\n",
        "1. ¿Cuál es el producto con mayores ventas de las ubicaciones?\n",
        "2. ¿Cuál es la máquina expendidora con mayores ventas?\n",
        "3. ¿Existe alguna epoca del año con menores ventas?\n",
        "4. ¿Cuáles son los 5 productos con mejores margenes de ganancia? \n",
        "5. ¿Cuál es la mejor ruta de re-surtido en base al consumo?\n",
        "6. ¿Cuál es el impacto de venta en los dias de pago de nomina en el sector?\n",
        "7. ¿Cuál es el pago de preferencia de los usuarios?\n",
        "8. ¿Cuál es el volumen de venta diaria vs capacidad de la maquina en dias pico?\n",
        "\n",
        "\n",
        "###¿Qué actor (empresa, sector de la sociedad, organismo descentralizado, gobierno, etc.) estaría interesado en las preguntas mencionadas que identificó? \n",
        "Actores que se benefician:\n",
        "- Empresa distibuidora de productos\n",
        "- Sector Salud, para conocer el consumo de producto chatarra\n",
        "- Empresas de la competencia, mercados establecidos"
      ],
      "metadata": {
        "id": "wA96qSSDwaBW"
      }
    }
  ]
}